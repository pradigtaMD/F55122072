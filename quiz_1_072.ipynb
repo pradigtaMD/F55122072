{
  "nbformat": 4,
  "nbformat_minor": 0,
  "metadata": {
    "colab": {
      "provenance": []
    },
    "kernelspec": {
      "name": "python3",
      "display_name": "Python 3"
    },
    "language_info": {
      "name": "python"
    }
  },
  "cells": [
    {
      "cell_type": "code",
      "execution_count": null,
      "metadata": {
        "colab": {
          "base_uri": "https://localhost:8080/"
        },
        "id": "8IwVM7TEYPTu",
        "outputId": "dffeeb2e-03ce-49a8-d67b-10b59efbec27"
      },
      "outputs": [
        {
          "output_type": "stream",
          "name": "stdout",
          "text": [
            "1. Elemen terbesar:  100\n",
            "   Elemen terkecil:  12\n",
            "2. Transpose:  [[34, 72, 61], [100, 24, 20], [12, 55, 19]]\n",
            "3. Multiplication:  [[11300, 5508, 4302], [5508, 8785, 5917], [4302, 5917, 4482]]\n",
            "4. Addition:  [[68, 172, 73], [172, 48, 75], [73, 75, 38]]\n"
          ]
        }
      ],
      "source": [
        "#Pradigta\n",
        "#F55122072\n",
        "class Matrix:\n",
        "    def __init__(self, matrix):\n",
        "        self.matrix = matrix\n",
        "\n",
        "    def largest_element(self):\n",
        "        largest = self.matrix[0][0]\n",
        "        for i in range(len(self.matrix)):\n",
        "            for j in range(len(self.matrix[0])):\n",
        "                if self.matrix[i][j] > largest:\n",
        "                    largest = self.matrix[i][j]\n",
        "        return largest\n",
        "\n",
        "    def smallest_element(self):\n",
        "        smallest = self.matrix[0][0]\n",
        "        for i in range(len(self.matrix)):\n",
        "            for j in range(len(self.matrix[0])):\n",
        "                if self.matrix[i][j] < smallest:\n",
        "                    smallest = self.matrix[i][j]\n",
        "        return smallest\n",
        "\n",
        "    def transpose(self):\n",
        "        transposed = [[self.matrix[j][i] for j in range(len(self.matrix))] for i in range(len(self.matrix[0]))]\n",
        "        return transposed\n",
        "\n",
        "    def multiply(self, matrix):\n",
        "        if len(self.matrix[0]) != len(matrix):\n",
        "            return \"Matrices cannot be multiplied!\"\n",
        "        multiplied = [[sum(a*b for a,b in zip(X_row,Y_col)) for Y_col in zip(*matrix)] for X_row in self.matrix]\n",
        "        return multiplied\n",
        "\n",
        "    def add(self, matrix):\n",
        "        if len(self.matrix) != len(matrix) or len(self.matrix[0]) != len(matrix[0]):\n",
        "            return \"Matrices cannot be added!\"\n",
        "        added = [[self.matrix[i][j] + matrix[i][j] for j in range(len(self.matrix[0]))] for i in range(len(self.matrix))]\n",
        "        return added\n",
        "\n",
        "\n",
        "if __name__ == \"__main__\":\n",
        "    A = Matrix([[34, 100, 12], [72, 24, 55], [61, 20, 19]])\n",
        "    print(\"1. Elemen terbesar: \", A.largest_element())\n",
        "    print(\"   Elemen terkecil: \", A.smallest_element())\n",
        "    print(\"2. Transpose: \", A.transpose())\n",
        "    print(\"3. Multiplication: \", A.multiply(A.transpose()))\n",
        "    print(\"4. Addition: \", A.add(A.transpose()))"
      ]
    }
  ]
}